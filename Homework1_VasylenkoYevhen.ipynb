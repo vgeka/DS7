{
 "cells": [
  {
   "cell_type": "markdown",
   "id": "fd214535-48f2-40db-8ec7-5781cb995458",
   "metadata": {},
   "source": [
    "**1. Markdown cells**\n",
    "\n",
    "* Hi! It is Main Academy?\n",
    "* All HTML tabs are supported!\n",
    "* Моя сторінка на [LinkedIn](https://linkedin.com/in/yevhenvasylenko)\n",
    "* Моя сторінка на [RPubs](https://rpubs.com/geka)"
   ]
  },
  {
   "cell_type": "markdown",
   "id": "c146dc9b-3ad0-4ee8-b848-2dd8ed90bf94",
   "metadata": {},
   "source": [
    "# This is Heading 1"
   ]
  },
  {
   "cell_type": "markdown",
   "id": "0edf9314-0818-405c-8e95-32fbb1ae574e",
   "metadata": {},
   "source": [
    "## This is Heading 2"
   ]
  },
  {
   "cell_type": "markdown",
   "id": "2f49354b-0d23-49f2-901e-b7583eebcdb6",
   "metadata": {},
   "source": [
    "some gray coloder text:\n",
    "> This is where we can brign quotes and present them nicely\n",
    "\n",
    "And this is the paragraph about something very important. Even math\n",
    "\n",
    "$y_{sub} = \\sqrt(x_{sub})$"
   ]
  },
  {
   "cell_type": "markdown",
   "id": "9e4d4156-a2ed-4f2b-9e97-968260e20c87",
   "metadata": {},
   "source": [
    "Or Python code example:\n",
    "```python\n",
    "import math\n",
    "def(foo)\n",
    "    return(foo)\n",
    "```"
   ]
  },
  {
   "cell_type": "markdown",
   "id": "fb213c18-a57d-4ca0-8199-8ba8138414ff",
   "metadata": {},
   "source": [
    "Here is the sample mean:\n",
    "\n",
    "\\\\[\\displaystyle \\overline{y}={\\frac {1}{n}}\\sum _{i=1}^{n}y_{i} \\\\]"
   ]
  },
  {
   "cell_type": "markdown",
   "id": "24315a28-c001-494e-977c-11993de1bb43",
   "metadata": {},
   "source": [
    "Here is the sample variance:\n",
    "\n",
    "\\\\[\\displaystyle \\sigma^2 = \\frac{\\displaystyle\\sum_{i=1}^{n}(y_i - \\overline{y})^2} {n-1} \\\\]"
   ]
  },
  {
   "cell_type": "markdown",
   "id": "356457a7-6677-4933-9a25-0966716f64a5",
   "metadata": {},
   "source": [
    "Here is the sample standard deviation:\n",
    "\n",
    "\\\\[\\displaystyle \\sigma = \\sqrt{\\frac{\\displaystyle\\sum_{i=1}^{n}(y_i - \\overline{y})^2} {n-1}} \\\\]"
   ]
  },
  {
   "cell_type": "code",
   "execution_count": null,
   "id": "db879a59-062b-4324-8f78-eeab32acd85c",
   "metadata": {},
   "outputs": [],
   "source": []
  }
 ],
 "metadata": {
  "kernelspec": {
   "display_name": "Python 3",
   "language": "python",
   "name": "python3"
  },
  "language_info": {
   "codemirror_mode": {
    "name": "ipython",
    "version": 3
   },
   "file_extension": ".py",
   "mimetype": "text/x-python",
   "name": "python",
   "nbconvert_exporter": "python",
   "pygments_lexer": "ipython3",
   "version": "3.7.10"
  }
 },
 "nbformat": 4,
 "nbformat_minor": 5
}
