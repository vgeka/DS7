{
 "cells": [
  {
   "cell_type": "markdown",
   "metadata": {},
   "source": [
    "___\n",
    "\n",
    "<a href='https://mainacademy.ua/'> <img src='https://mainacademy.ua/wp-content/uploads/2019/03/logo-main.png' alt = 'Хмм, щось з інтернетом'/></a>\n",
    "___\n",
    "\n",
    "# Module 2: Basic Python"
   ]
  },
  {
   "cell_type": "markdown",
   "metadata": {},
   "source": [
    "## Lab work 2.1\n",
    "\n"
   ]
  },
  {
   "cell_type": "markdown",
   "metadata": {},
   "source": [
    "#### Мета: \n",
    "\n",
    "* навчитися працювати із основними типами та структурами даних в Python;\n",
    "* ознайомитися із базовими алгоритмами;"
   ]
  },
  {
   "cell_type": "markdown",
   "metadata": {},
   "source": [
    "#### Завдання 1"
   ]
  },
  {
   "cell_type": "markdown",
   "metadata": {
    "tags": []
   },
   "source": [
    "Обчислити площу трикутника, коли відома сторона та проведена висота до неї"
   ]
  },
  {
   "cell_type": "markdown",
   "metadata": {},
   "source": [
    ">Площа трикутника дорівнює половині добутку сторони трикутника на висоту, опущену до цієї сторони:\n",
    "\n",
    "\\\\[\\displaystyle S_{ABC}={\\frac {1}{2}}\\times a \\times h_{a} ; S_{ABC}={\\frac {1}{2}}\\times b \\times h_{b}; S_{ABC}={\\frac {1}{2}}\\times c \\times h_{c} \\\\]"
   ]
  },
  {
   "cell_type": "code",
   "execution_count": 4,
   "metadata": {},
   "outputs": [
    {
     "name": "stdin",
     "output_type": "stream",
     "text": [
      "Уведіть значення довжини сторони: 15\n",
      "Уведіть значення висоти: 7\n"
     ]
    },
    {
     "name": "stdout",
     "output_type": "stream",
     "text": [
      "Площа трикутника дорівнює: 52.5\n"
     ]
    }
   ],
   "source": [
    "a = int(input('Уведіть значення довжини сторони:'))\n",
    "h = int(input('Уведіть значення висоти:'))\n",
    "c = 0.5 * a * h\n",
    "print('Площа трикутника дорівнює:', c)"
   ]
  },
  {
   "cell_type": "markdown",
   "metadata": {},
   "source": [
    "#### Завдання 2"
   ]
  },
  {
   "cell_type": "markdown",
   "metadata": {},
   "source": [
    "Дано трицифрове число. Виведіть окремо кожну цифру числа та суми цифр число\n",
    "\n",
    "Реалізуйте завдання двома способами (використовуючи стрічки та оператори `%`, `//`)"
   ]
  },
  {
   "cell_type": "code",
   "execution_count": 24,
   "metadata": {},
   "outputs": [
    {
     "name": "stdin",
     "output_type": "stream",
     "text": [
      "Уведіть трицифрове число: 527\n"
     ]
    },
    {
     "name": "stdout",
     "output_type": "stream",
     "text": [
      "Сума цифр числа: 14\n"
     ]
    }
   ],
   "source": [
    "N = int(input('Уведіть трицифрове число:'))\n",
    "a = int(N//100)\n",
    "b = int((N//10)%10)\n",
    "c = int(N%10)\n",
    "print(\"Сума цифр числа:\", a + b + c)"
   ]
  },
  {
   "cell_type": "code",
   "execution_count": 42,
   "metadata": {},
   "outputs": [
    {
     "name": "stdin",
     "output_type": "stream",
     "text": [
      "Уведіть трицифрове число: 527\n"
     ]
    },
    {
     "name": "stdout",
     "output_type": "stream",
     "text": [
      "Сума цифр числа: 14\n"
     ]
    }
   ],
   "source": [
    "N1 = list(str(input('Уведіть трицифрове число:')))\n",
    "N2 = int(N1[0]) + int(N1[1]) + int(N1[2])\n",
    "print(\"Сума цифр числа:\", N2)"
   ]
  },
  {
   "cell_type": "markdown",
   "metadata": {},
   "source": [
    "#### Завдання 3"
   ]
  },
  {
   "cell_type": "markdown",
   "metadata": {},
   "source": [
    "Дано речення (стрічка). \n",
    "* Розбийте речення по словах і помістіть їх у список. \n",
    "* Виведіть кількість слів у речені.\n",
    "* Утворіть нове речення, що складається з першого та останнього слова із початкового речення."
   ]
  },
  {
   "cell_type": "code",
   "execution_count": 45,
   "metadata": {},
   "outputs": [],
   "source": [
    "sentence = 'My favourite tutor in academy is Ihor'"
   ]
  },
  {
   "cell_type": "code",
   "execution_count": 46,
   "metadata": {},
   "outputs": [
    {
     "data": {
      "text/plain": [
       "['My', 'favourite', 'tutor', 'in', 'academy', 'is', 'Ihor']"
      ]
     },
     "execution_count": 46,
     "metadata": {},
     "output_type": "execute_result"
    }
   ],
   "source": [
    "sentence.split(sep = \" \")"
   ]
  },
  {
   "cell_type": "code",
   "execution_count": 47,
   "metadata": {},
   "outputs": [
    {
     "data": {
      "text/plain": [
       "7"
      ]
     },
     "execution_count": 47,
     "metadata": {},
     "output_type": "execute_result"
    }
   ],
   "source": [
    "len(sentence.split(sep = \" \"))"
   ]
  },
  {
   "cell_type": "code",
   "execution_count": 53,
   "metadata": {},
   "outputs": [
    {
     "name": "stdout",
     "output_type": "stream",
     "text": [
      "My Ihor\n"
     ]
    }
   ],
   "source": [
    "tmp = sentence.split(sep = \" \")\n",
    "print(tmp[0], tmp[-1])"
   ]
  },
  {
   "cell_type": "markdown",
   "metadata": {},
   "source": [
    "#### Завдання 4"
   ]
  },
  {
   "cell_type": "markdown",
   "metadata": {},
   "source": [
    "Перевірте, чи справджується формула: $$ sin^2x + cos^2x = 1$$\n",
    "\n",
    "Напишіть код, що реалізує цю формулу. Нагадую, що тригонометричні функції приймають аргументи в радіанній мірі"
   ]
  },
  {
   "cell_type": "code",
   "execution_count": 65,
   "metadata": {},
   "outputs": [
    {
     "name": "stdin",
     "output_type": "stream",
     "text": [
      "Уведіть значення X: 67\n"
     ]
    },
    {
     "name": "stdout",
     "output_type": "stream",
     "text": [
      "Вираз дорівнює 1!\n"
     ]
    }
   ],
   "source": [
    "import math\n",
    "x = int(input(\"Уведіть значення X:\"))\n",
    "y = math.sin(math.radians(x))**2 + math.cos(math.radians(x))**2\n",
    "if round(y, 0) == 1:\n",
    "        print(\"Вираз дорівнює 1!\")\n",
    "else:\n",
    "        print(\"Вираз НЕ дорівнює 1\")"
   ]
  },
  {
   "cell_type": "markdown",
   "metadata": {},
   "source": [
    "#### Завдання 5"
   ]
  },
  {
   "cell_type": "markdown",
   "metadata": {},
   "source": [
    "Напишіть програму для обчислення коренів квадратного рівняння.\n",
    "\n",
    "Нагадую, що `n`-го степеня має `n` коренів. (Корені можуть бути комплексні)"
   ]
  },
  {
   "cell_type": "markdown",
   "metadata": {},
   "source": [
    ">Квадратне рівняння має вигляд:\n",
    "\n",
    "\\\\[\\displaystyle ax^2 + bx = 0 \\\\]"
   ]
  },
  {
   "cell_type": "code",
   "execution_count": 68,
   "metadata": {},
   "outputs": [
    {
     "name": "stdout",
     "output_type": "stream",
     "text": [
      "Уведіть коефіцієнти для рівняння\n",
      "ax^2 + bx + c = 0:\n"
     ]
    },
    {
     "name": "stdin",
     "output_type": "stream",
     "text": [
      " 8\n",
      " 4\n",
      " 2\n"
     ]
    },
    {
     "name": "stdout",
     "output_type": "stream",
     "text": [
      "Дискримінант рівняння = -48.00\n",
      "Корені відсутні\n"
     ]
    }
   ],
   "source": [
    "import cmath\n",
    "print(\"Уведіть коефіцієнти для рівняння\")\n",
    "print(\"ax^2 + bx + c = 0:\")\n",
    "a = int(input())\n",
    "b = int(input())\n",
    "c = int(input())\n",
    "discr = b ** 2 - 4 * a * c\n",
    "print(\"Дискримінант рівняння = %.2f\" % discr)\n",
    " \n",
    "if discr > 0:\n",
    "    x1 = (-b + math.sqrt(discr)) / (2 * a)\n",
    "    x2 = (-b - math.sqrt(discr)) / (2 * a)\n",
    "    print(\"x1 = %.2f \\nx2 = %.2f\" % (x1, x2))\n",
    "elif discr == 0:\n",
    "    x = -b / (2 * a)\n",
    "    print(\"x = %.2f\" % x)\n",
    "else:\n",
    "    print(\"Корені відсутні\")"
   ]
  },
  {
   "cell_type": "markdown",
   "metadata": {},
   "source": [
    "#### Завдання 6"
   ]
  },
  {
   "cell_type": "markdown",
   "metadata": {},
   "source": [
    "Напишіть програму, що виводить речення: <i>\"Діаметр планети `Planet` дорівнює` Diament`\"</i>, \n",
    "\n",
    "де `Planet` та `Diament` вводить користувач"
   ]
  },
  {
   "cell_type": "code",
   "execution_count": 71,
   "metadata": {},
   "outputs": [
    {
     "name": "stdout",
     "output_type": "stream",
     "text": [
      "Уведіть назву планети:\n"
     ]
    },
    {
     "name": "stdin",
     "output_type": "stream",
     "text": [
      " Сатурн\n"
     ]
    },
    {
     "name": "stdout",
     "output_type": "stream",
     "text": [
      "Уведіть діаметр планети (тис.км):\n"
     ]
    },
    {
     "name": "stdin",
     "output_type": "stream",
     "text": [
      " 150\n"
     ]
    },
    {
     "name": "stdout",
     "output_type": "stream",
     "text": [
      "Діаметр планети Сатурн дорівнює 150 тис.км\n"
     ]
    }
   ],
   "source": [
    "print(\"Уведіть назву планети:\")\n",
    "a = str(input())\n",
    "print(\"Уведіть діаметр планети (тис.км):\")\n",
    "b = int(input())\n",
    "print(\"Діаметр планети\", a, \"дорівнює\", b, \"тис.км\")"
   ]
  },
  {
   "cell_type": "code",
   "execution_count": null,
   "metadata": {},
   "outputs": [],
   "source": []
  }
 ],
 "metadata": {
  "kernelspec": {
   "display_name": "Python 3",
   "language": "python",
   "name": "python3"
  },
  "language_info": {
   "codemirror_mode": {
    "name": "ipython",
    "version": 3
   },
   "file_extension": ".py",
   "mimetype": "text/x-python",
   "name": "python",
   "nbconvert_exporter": "python",
   "pygments_lexer": "ipython3",
   "version": "3.7.10"
  }
 },
 "nbformat": 4,
 "nbformat_minor": 4
}
